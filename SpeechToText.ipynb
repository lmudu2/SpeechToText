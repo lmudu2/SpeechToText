{
 "cells": [
  {
   "cell_type": "code",
   "execution_count": 25,
   "metadata": {},
   "outputs": [],
   "source": [
    "import speech_recognition as SR\n",
    "import time\n",
    "import pyaudio"
   ]
  },
  {
   "cell_type": "code",
   "execution_count": 26,
   "metadata": {},
   "outputs": [
    {
     "name": "stdout",
     "output_type": "stream",
     "text": [
      "Speak something....\n",
      "Recording time: 07:25:44\n",
      "Text converted from audio:\n"
     ]
    }
   ],
   "source": [
    "sr = SR.Recognizer()\n",
    "with SR.Microphone() as s:\n",
    "    print('Speak something....')\n",
    "    audio_input = sr.record(s,duration=120)\n",
    "    print('Recording time:',time.strftime(\"%I:%M:%S\"))\n",
    "    text_output=sr.recognize_google(audio_input)\n",
    "    print('Text converted from audio:')          \n"
   ]
  },
  {
   "cell_type": "code",
   "execution_count": 27,
   "metadata": {},
   "outputs": [],
   "source": [
    "import nltk\n",
    "import re\n",
    "from nltk.stem import WordNetLemmatizer\n",
    "from nltk.corpus import stopwords\n",
    "import pandas as pd"
   ]
  },
  {
   "cell_type": "code",
   "execution_count": 28,
   "metadata": {},
   "outputs": [],
   "source": [
    "paragraph = text_output"
   ]
  },
  {
   "cell_type": "code",
   "execution_count": 29,
   "metadata": {},
   "outputs": [],
   "source": [
    "le = WordNetLemmatizer()\n",
    "sentences = nltk.sent_tokenize(paragraph)\n",
    "corpus=[]"
   ]
  },
  {
   "cell_type": "code",
   "execution_count": 30,
   "metadata": {},
   "outputs": [],
   "source": [
    "for i in range(len(sentences)):\n",
    "    words=re.sub('[^a-zA-Z]',' ',sentences[i])\n",
    "    words=words.lower()\n",
    "    words=words.split()\n",
    "    words = nltk.word_tokenize(sentences[i])\n",
    "    words =[le.lemmatize(word) for word in words if word not in set(stopwords.words('english'))]\n",
    "    words=' '.join(words)\n",
    "    corpus.append(words)"
   ]
  },
  {
   "cell_type": "code",
   "execution_count": 31,
   "metadata": {},
   "outputs": [
    {
     "data": {
      "text/plain": [
       "[\"hello I 'm explain project moment ago converting Speech-to-Text order go imported speech recognition library I putting time record time I n't put higher Hill library using biology directly use microphone computer need go voice recorder voice\"]"
      ]
     },
     "execution_count": 31,
     "metadata": {},
     "output_type": "execute_result"
    }
   ],
   "source": [
    "corpus"
   ]
  },
  {
   "cell_type": "code",
   "execution_count": 32,
   "metadata": {},
   "outputs": [],
   "source": [
    "from sklearn.feature_extraction.text import TfidfVectorizer\n",
    "tfidf = TfidfVectorizer()\n",
    "X=tfidf.fit_transform(corpus).toarray()"
   ]
  },
  {
   "cell_type": "code",
   "execution_count": 33,
   "metadata": {},
   "outputs": [],
   "source": [
    "df_text = pd.DataFrame(X)"
   ]
  },
  {
   "cell_type": "code",
   "execution_count": 34,
   "metadata": {},
   "outputs": [
    {
     "data": {
      "text/html": [
       "<div>\n",
       "<style scoped>\n",
       "    .dataframe tbody tr th:only-of-type {\n",
       "        vertical-align: middle;\n",
       "    }\n",
       "\n",
       "    .dataframe tbody tr th {\n",
       "        vertical-align: top;\n",
       "    }\n",
       "\n",
       "    .dataframe thead th {\n",
       "        text-align: right;\n",
       "    }\n",
       "</style>\n",
       "<table border=\"1\" class=\"dataframe\">\n",
       "  <thead>\n",
       "    <tr style=\"text-align: right;\">\n",
       "      <th></th>\n",
       "      <th>0</th>\n",
       "      <th>1</th>\n",
       "      <th>2</th>\n",
       "      <th>3</th>\n",
       "      <th>4</th>\n",
       "      <th>5</th>\n",
       "      <th>6</th>\n",
       "      <th>7</th>\n",
       "      <th>8</th>\n",
       "      <th>9</th>\n",
       "      <th>...</th>\n",
       "      <th>19</th>\n",
       "      <th>20</th>\n",
       "      <th>21</th>\n",
       "      <th>22</th>\n",
       "      <th>23</th>\n",
       "      <th>24</th>\n",
       "      <th>25</th>\n",
       "      <th>26</th>\n",
       "      <th>27</th>\n",
       "      <th>28</th>\n",
       "    </tr>\n",
       "  </thead>\n",
       "  <tbody>\n",
       "    <tr>\n",
       "      <td>0</td>\n",
       "      <td>0.150756</td>\n",
       "      <td>0.150756</td>\n",
       "      <td>0.150756</td>\n",
       "      <td>0.150756</td>\n",
       "      <td>0.150756</td>\n",
       "      <td>0.150756</td>\n",
       "      <td>0.301511</td>\n",
       "      <td>0.150756</td>\n",
       "      <td>0.150756</td>\n",
       "      <td>0.150756</td>\n",
       "      <td>...</td>\n",
       "      <td>0.150756</td>\n",
       "      <td>0.150756</td>\n",
       "      <td>0.150756</td>\n",
       "      <td>0.301511</td>\n",
       "      <td>0.150756</td>\n",
       "      <td>0.301511</td>\n",
       "      <td>0.150756</td>\n",
       "      <td>0.150756</td>\n",
       "      <td>0.150756</td>\n",
       "      <td>0.301511</td>\n",
       "    </tr>\n",
       "  </tbody>\n",
       "</table>\n",
       "<p>1 rows × 29 columns</p>\n",
       "</div>"
      ],
      "text/plain": [
       "         0         1         2         3         4         5         6   \\\n",
       "0  0.150756  0.150756  0.150756  0.150756  0.150756  0.150756  0.301511   \n",
       "\n",
       "         7         8         9   ...        19        20        21        22  \\\n",
       "0  0.150756  0.150756  0.150756  ...  0.150756  0.150756  0.150756  0.301511   \n",
       "\n",
       "         23        24        25        26        27        28  \n",
       "0  0.150756  0.301511  0.150756  0.150756  0.150756  0.301511  \n",
       "\n",
       "[1 rows x 29 columns]"
      ]
     },
     "execution_count": 34,
     "metadata": {},
     "output_type": "execute_result"
    }
   ],
   "source": [
    "df_text"
   ]
  },
  {
   "cell_type": "code",
   "execution_count": null,
   "metadata": {},
   "outputs": [],
   "source": []
  }
 ],
 "metadata": {
  "kernelspec": {
   "display_name": "Python 3",
   "language": "python",
   "name": "python3"
  },
  "language_info": {
   "codemirror_mode": {
    "name": "ipython",
    "version": 3
   },
   "file_extension": ".py",
   "mimetype": "text/x-python",
   "name": "python",
   "nbconvert_exporter": "python",
   "pygments_lexer": "ipython3",
   "version": "3.7.4"
  }
 },
 "nbformat": 4,
 "nbformat_minor": 4
}
